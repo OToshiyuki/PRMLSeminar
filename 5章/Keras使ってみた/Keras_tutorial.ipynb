{
 "cells": [
  {
   "cell_type": "markdown",
   "metadata": {},
   "source": [
    "# Kerasで関数形の推定\n",
    "\n",
    "**気が向いた**ので、話題にも上がったKerasに実際に関数を近似させるタスクを行わせてみた。\n",
    "\n",
    "## 使用するパッケージ\n",
    "* numpy\n",
    "* matplotlib\n",
    "* keras\n",
    "\n",
    "## 方法\n",
    "\n",
    "まず、必要なパッケージをimportする  "
   ]
  },
  {
   "cell_type": "code",
   "execution_count": 1,
   "metadata": {},
   "outputs": [
    {
     "name": "stderr",
     "output_type": "stream",
     "text": [
      "Using TensorFlow backend.\n"
     ]
    }
   ],
   "source": [
    "import numpy as np\n",
    "from keras.models import Sequential\n",
    "from keras.layers import Dense"
   ]
  },
  {
   "cell_type": "markdown",
   "metadata": {},
   "source": [
    "続いて訓練データとテストデータを作成する。今回使用する訓練データは (今まで教科書によく出てきた)**sin関数にノイズ (Gaussian, 分散0.1)が乗ったモデル**を採用する。\n",
    "テストデータにはノイズは乗っていない"
   ]
  },
  {
   "cell_type": "code",
   "execution_count": 2,
   "metadata": {},
   "outputs": [],
   "source": [
    "x_train = np.linspace(0, 10, 10000)\n",
    "y_train = np.random.normal(np.sin(x_train)+1.5, 0.1)\n",
    "x_test = np.linspace(0, 10, 10000)\n",
    "y_test = np.sin(x_train)+1.5"
   ]
  },
  {
   "cell_type": "markdown",
   "metadata": {},
   "source": [
    "ちなみに訓練データを図示すると下のような感じになる"
   ]
  },
  {
   "cell_type": "code",
   "execution_count": 3,
   "metadata": {},
   "outputs": [
    {
     "data": {
      "image/png": "[encoded data removed]",
      "text/plain": [
       "<matplotlib.figure.Figure at 0x7fe429968278>"
      ]
     },
     "metadata": {},
     "output_type": "display_data"
    }
   ],
   "source": [
    "import matplotlib.pyplot as plt\n",
    "plt.plot(x_train, y_train, 'b.')\n",
    "plt.show()"
   ]
  },
  {
   "cell_type": "markdown",
   "metadata": {},
   "source": [
    "続いてKerasを用いてニューラルネットワークを構築する。"
   ]
  },
  {
   "cell_type": "code",
   "execution_count": 4,
   "metadata": {},
   "outputs": [],
   "source": [
    "model = Sequential()\n",
    "# 層の追加、ノード数64、activation functionはReLU\n",
    "model.add(Dense(units=64, activation='relu', input_shape=(1,)))\n",
    "# 層の追加、ノード数64、activation functionはReLU\n",
    "model.add(Dense(units=64, activation='relu'))\n",
    "# 層の追加、ノード数1 (出力層)\n",
    "model.add(Dense(units=1))\n",
    "# ニューラルネットワークの構築、評価基準は二乗和誤差、最適化手法は確率的勾配降下法\n",
    "model.compile(loss='mean_squared_error', optimizer='sgd')"
   ]
  },
  {
   "cell_type": "markdown",
   "metadata": {},
   "source": [
    "このコードで次のようなニューラルネットワークが作れる\n",
    "<img src=\"NN.png\">\n",
    "\n",
    "続いて訓練データを用いて実際に学習させる、これはfit関数を持ちいて1行ちょこっと書けばよい。\n",
    "1つの訓練データを何回用いるかのパラメータであるepoch数は\"うまいこと\"指定する。"
   ]
  },
  {
   "cell_type": "code",
   "execution_count": 5,
   "metadata": {},
   "outputs": [
    {
     "name": "stdout",
     "output_type": "stream",
     "text": [
      "Epoch 1/100\n",
      "10000/10000 [==============================] - 0s - loss: 0.5738     \n",
      "Epoch 2/100\n",
      "10000/10000 [==============================] - 0s - loss: 0.4151     \n",
      "Epoch 3/100\n",
      "10000/10000 [==============================] - 0s - loss: 0.3528     \n",
      "Epoch 4/100\n",
      "10000/10000 [==============================] - 0s - loss: 0.3009     \n",
      "Epoch 5/100\n",
      "10000/10000 [==============================] - 0s - loss: 0.2649     \n",
      "Epoch 6/100\n",
      "10000/10000 [==============================] - 0s - loss: 0.2418     \n",
      "Epoch 7/100\n",
      "10000/10000 [==============================] - 0s - loss: 0.2278     \n",
      "Epoch 8/100\n",
      "10000/10000 [==============================] - 0s - loss: 0.2167     \n",
      "Epoch 9/100\n",
      "10000/10000 [==============================] - 0s - loss: 0.2101     \n",
      "Epoch 10/100\n",
      "10000/10000 [==============================] - 0s - loss: 0.2047     \n",
      "Epoch 11/100\n",
      "10000/10000 [==============================] - 0s - loss: 0.2015     \n",
      "Epoch 12/100\n",
      "10000/10000 [==============================] - 0s - loss: 0.1965     \n",
      "Epoch 13/100\n",
      "10000/10000 [==============================] - 0s - loss: 0.1936     \n",
      "Epoch 14/100\n",
      "10000/10000 [==============================] - 0s - loss: 0.1920     \n",
      "Epoch 15/100\n",
      "10000/10000 [==============================] - 0s - loss: 0.1863     \n",
      "Epoch 16/100\n",
      "10000/10000 [==============================] - 0s - loss: 0.1833     \n",
      "Epoch 17/100\n",
      "10000/10000 [==============================] - 0s - loss: 0.1778     \n",
      "Epoch 18/100\n",
      "10000/10000 [==============================] - 0s - loss: 0.1712     \n",
      "Epoch 19/100\n",
      "10000/10000 [==============================] - 0s - loss: 0.1622     \n",
      "Epoch 20/100\n",
      "10000/10000 [==============================] - 0s - loss: 0.1504     \n",
      "Epoch 21/100\n",
      "10000/10000 [==============================] - 0s - loss: 0.1381     \n",
      "Epoch 22/100\n",
      "10000/10000 [==============================] - 0s - loss: 0.1295     \n",
      "Epoch 23/100\n",
      "10000/10000 [==============================] - 0s - loss: 0.1149     \n",
      "Epoch 24/100\n",
      "10000/10000 [==============================] - 0s - loss: 0.0990     \n",
      "Epoch 25/100\n",
      "10000/10000 [==============================] - 0s - loss: 0.0807     \n",
      "Epoch 26/100\n",
      "10000/10000 [==============================] - 0s - loss: 0.0799     \n",
      "Epoch 27/100\n",
      "10000/10000 [==============================] - 0s - loss: 0.0712     \n",
      "Epoch 28/100\n",
      "10000/10000 [==============================] - 0s - loss: 0.0592     \n",
      "Epoch 29/100\n",
      "10000/10000 [==============================] - 0s - loss: 0.0610     \n",
      "Epoch 30/100\n",
      "10000/10000 [==============================] - 0s - loss: 0.0496     \n",
      "Epoch 31/100\n",
      "10000/10000 [==============================] - 0s - loss: 0.0584     \n",
      "Epoch 32/100\n",
      "10000/10000 [==============================] - 0s - loss: 0.0471     \n",
      "Epoch 33/100\n",
      "10000/10000 [==============================] - 0s - loss: 0.0443     \n",
      "Epoch 34/100\n",
      "10000/10000 [==============================] - 0s - loss: 0.0385     \n",
      "Epoch 35/100\n",
      "10000/10000 [==============================] - 0s - loss: 0.0323     \n",
      "Epoch 36/100\n",
      "10000/10000 [==============================] - 0s - loss: 0.0380     \n",
      "Epoch 37/100\n",
      "10000/10000 [==============================] - 0s - loss: 0.0320     \n",
      "Epoch 38/100\n",
      "10000/10000 [==============================] - 0s - loss: 0.0295     \n",
      "Epoch 39/100\n",
      "10000/10000 [==============================] - 0s - loss: 0.0347     \n",
      "Epoch 40/100\n",
      "10000/10000 [==============================] - 0s - loss: 0.0309     \n",
      "Epoch 41/100\n",
      "10000/10000 [==============================] - 0s - loss: 0.0252     \n",
      "Epoch 42/100\n",
      "10000/10000 [==============================] - 0s - loss: 0.0272     \n",
      "Epoch 43/100\n",
      "10000/10000 [==============================] - 0s - loss: 0.0213     \n",
      "Epoch 44/100\n",
      "10000/10000 [==============================] - 0s - loss: 0.0265     \n",
      "Epoch 45/100\n",
      "10000/10000 [==============================] - 0s - loss: 0.0252     \n",
      "Epoch 46/100\n",
      "10000/10000 [==============================] - 0s - loss: 0.0186     \n",
      "Epoch 47/100\n",
      "10000/10000 [==============================] - 0s - loss: 0.0186     \n",
      "Epoch 48/100\n",
      "10000/10000 [==============================] - 0s - loss: 0.0231     \n",
      "Epoch 49/100\n",
      "10000/10000 [==============================] - 0s - loss: 0.0196     \n",
      "Epoch 50/100\n",
      "10000/10000 [==============================] - 0s - loss: 0.0200     \n",
      "Epoch 51/100\n",
      "10000/10000 [==============================] - 0s - loss: 0.0216     \n",
      "Epoch 52/100\n",
      "10000/10000 [==============================] - 0s - loss: 0.0172     \n",
      "Epoch 53/100\n",
      "10000/10000 [==============================] - 0s - loss: 0.0186     \n",
      "Epoch 54/100\n",
      "10000/10000 [==============================] - 0s - loss: 0.0179     \n",
      "Epoch 55/100\n",
      "10000/10000 [==============================] - 0s - loss: 0.0192     \n",
      "Epoch 56/100\n",
      "10000/10000 [==============================] - 0s - loss: 0.0153     \n",
      "Epoch 57/100\n",
      "10000/10000 [==============================] - 0s - loss: 0.0164     \n",
      "Epoch 58/100\n",
      "10000/10000 [==============================] - 0s - loss: 0.0157     \n",
      "Epoch 59/100\n",
      "10000/10000 [==============================] - 0s - loss: 0.0162     \n",
      "Epoch 60/100\n",
      "10000/10000 [==============================] - 0s - loss: 0.0173     \n",
      "Epoch 61/100\n",
      "10000/10000 [==============================] - 0s - loss: 0.0143     \n",
      "Epoch 62/100\n",
      "10000/10000 [==============================] - 0s - loss: 0.0162     \n",
      "Epoch 63/100\n",
      "10000/10000 [==============================] - 0s - loss: 0.0187     \n",
      "Epoch 64/100\n",
      "10000/10000 [==============================] - 0s - loss: 0.0177     \n",
      "Epoch 65/100\n",
      "10000/10000 [==============================] - 0s - loss: 0.0183     \n",
      "Epoch 66/100\n",
      "10000/10000 [==============================] - 0s - loss: 0.0168     \n",
      "Epoch 67/100\n",
      "10000/10000 [==============================] - 0s - loss: 0.0159     \n",
      "Epoch 68/100\n",
      "10000/10000 [==============================] - 0s - loss: 0.0170     \n",
      "Epoch 69/100\n",
      "10000/10000 [==============================] - 0s - loss: 0.0156     \n",
      "Epoch 70/100\n",
      "10000/10000 [==============================] - 0s - loss: 0.0150     \n",
      "Epoch 71/100\n",
      "10000/10000 [==============================] - 0s - loss: 0.0152     \n",
      "Epoch 72/100\n",
      "10000/10000 [==============================] - 0s - loss: 0.0145     \n",
      "Epoch 73/100\n",
      "10000/10000 [==============================] - 0s - loss: 0.0143     \n",
      "Epoch 74/100\n",
      "10000/10000 [==============================] - 0s - loss: 0.0147     \n",
      "Epoch 75/100\n",
      "10000/10000 [==============================] - 0s - loss: 0.0136     \n",
      "Epoch 76/100\n",
      "10000/10000 [==============================] - 0s - loss: 0.0142     \n",
      "Epoch 77/100\n",
      "10000/10000 [==============================] - 0s - loss: 0.0142     \n",
      "Epoch 78/100\n",
      "10000/10000 [==============================] - 0s - loss: 0.0145     \n",
      "Epoch 79/100\n",
      "10000/10000 [==============================] - 0s - loss: 0.0145     \n",
      "Epoch 80/100\n",
      "10000/10000 [==============================] - 0s - loss: 0.0143     \n",
      "Epoch 81/100\n",
      "10000/10000 [==============================] - 0s - loss: 0.0143     \n",
      "Epoch 82/100\n",
      "10000/10000 [==============================] - 0s - loss: 0.0137     \n",
      "Epoch 83/100\n",
      "10000/10000 [==============================] - 0s - loss: 0.0153     \n",
      "Epoch 84/100\n",
      "10000/10000 [==============================] - 0s - loss: 0.0153     \n",
      "Epoch 85/100\n",
      "10000/10000 [==============================] - 0s - loss: 0.0142     \n",
      "Epoch 86/100\n",
      "10000/10000 [==============================] - 0s - loss: 0.0152     \n",
      "Epoch 87/100\n",
      "10000/10000 [==============================] - 0s - loss: 0.0140     \n",
      "Epoch 88/100\n",
      "10000/10000 [==============================] - 0s - loss: 0.0138     \n",
      "Epoch 89/100\n",
      "10000/10000 [==============================] - 0s - loss: 0.0129     \n",
      "Epoch 90/100\n",
      "10000/10000 [==============================] - 0s - loss: 0.0134     \n",
      "Epoch 91/100\n",
      "10000/10000 [==============================] - 0s - loss: 0.0128     \n",
      "Epoch 92/100\n",
      "10000/10000 [==============================] - 0s - loss: 0.0137     \n",
      "Epoch 93/100\n",
      "10000/10000 [==============================] - 0s - loss: 0.0136     \n",
      "Epoch 94/100\n",
      "10000/10000 [==============================] - 0s - loss: 0.0132     \n",
      "Epoch 95/100\n",
      "10000/10000 [==============================] - 0s - loss: 0.0136     \n",
      "Epoch 96/100\n",
      "10000/10000 [==============================] - 0s - loss: 0.0134     \n",
      "Epoch 97/100\n",
      "10000/10000 [==============================] - 0s - loss: 0.0124     \n",
      "Epoch 98/100\n",
      "10000/10000 [==============================] - 0s - loss: 0.0149     \n",
      "Epoch 99/100\n"
     ]
    },
    {
     "name": "stdout",
     "output_type": "stream",
     "text": [
      "10000/10000 [==============================] - 0s - loss: 0.0136     \n",
      "Epoch 100/100\n",
      "10000/10000 [==============================] - 0s - loss: 0.0139     \n"
     ]
    },
    {
     "data": {
      "text/plain": [
       "<keras.callbacks.History at 0x7fe41c0dd470>"
      ]
     },
     "execution_count": 5,
     "metadata": {},
     "output_type": "execute_result"
    }
   ],
   "source": [
    "model.fit(x_train, y_train, epochs=100, batch_size=32)"
   ]
  },
  {
   "cell_type": "markdown",
   "metadata": {},
   "source": [
    "訓練されたモデルにおいて損失値も計算できる。\n",
    "(分類問題であればaccuracyも出力できる。)"
   ]
  },
  {
   "cell_type": "code",
   "execution_count": 6,
   "metadata": {},
   "outputs": [
    {
     "name": "stdout",
     "output_type": "stream",
     "text": [
      "\r",
      "  128/10000 [..............................] - ETA: 0s"
     ]
    },
    {
     "data": {
      "text/plain": [
       "0.0053507438381348036"
      ]
     },
     "execution_count": 6,
     "metadata": {},
     "output_type": "execute_result"
    }
   ],
   "source": [
    "model.evaluate(x_test, y_test, batch_size=128)"
   ]
  },
  {
   "cell_type": "markdown",
   "metadata": {},
   "source": [
    "ここからは実際にx座標を与えてy座標を予測させてみることを行う。そのためには下のようにpredict関数で1行書けばよい"
   ]
  },
  {
   "cell_type": "code",
   "execution_count": 12,
   "metadata": {},
   "outputs": [],
   "source": [
    "y_predict = model.predict(np.linspace(0,10,10000), batch_size=128)"
   ]
  },
  {
   "cell_type": "markdown",
   "metadata": {},
   "source": [
    "実際に関数を書かせてみたものが下の画像となる。青い点が訓練データ、赤い線がKerasで学習させたモデルとなる。直感的にはまあまあ一致しているように見える。"
   ]
  },
  {
   "cell_type": "code",
   "execution_count": 13,
   "metadata": {},
   "outputs": [
    {
     "data": {
      "image/png": "[encoded data removed]",
      "text/plain": [
       "<matplotlib.figure.Figure at 0x7fe41271cef0>"
      ]
     },
     "metadata": {},
     "output_type": "display_data"
    }
   ],
   "source": [
    "plt.plot(x_train, y_train, 'b.')\n",
    "plt.plot(np.linspace(0,10,10000), y_predict, 'r')\n",
    "plt.show()"
   ]
  },
  {
   "cell_type": "markdown",
   "metadata": {},
   "source": [
    "ちなみに（意地悪して）訓練してないデータ範囲まで予測させるとこんなことになる。"
   ]
  },
  {
   "cell_type": "code",
   "execution_count": 14,
   "metadata": {},
   "outputs": [
    {
     "data": {
      "image/png": "[encoded data removed]",
      "text/plain": [
       "<matplotlib.figure.Figure at 0x7fe420217dd8>"
      ]
     },
     "metadata": {},
     "output_type": "display_data"
    }
   ],
   "source": [
    "y_predict = model.predict(np.linspace(-5,15,10000), batch_size=128)\n",
    "plt.plot(x_train, y_train, 'b.')\n",
    "plt.plot(np.linspace(-5,15,10000), y_predict, 'r')\n",
    "plt.show()"
   ]
  },
  {
   "cell_type": "markdown",
   "metadata": {},
   "source": [
    "以上がKerasで関数近似を行う方法である。割と少ない行数でネットワークを構成できるのは良い。\n",
    "他にも様々なexampleがKerasで公開されており、例えば手書き数字認識のチュートリアルはここにある。\n",
    "\n",
    "https://github.com/fchollet/keras/blob/master/examples/mnist_cnn.py\n",
    "\n",
    "70行ぐらいで作れるらしい"
   ]
  }
 ],
 "metadata": {
  "kernelspec": {
   "display_name": "Python 3",
   "language": "python",
   "name": "python3"
  },
  "language_info": {
   "codemirror_mode": {
    "name": "ipython",
    "version": 3
   },
   "file_extension": ".py",
   "mimetype": "text/x-python",
   "name": "python",
   "nbconvert_exporter": "python",
   "pygments_lexer": "ipython3",
   "version": "3.6.3"
  }
 },
 "nbformat": 4,
 "nbformat_minor": 2
}
